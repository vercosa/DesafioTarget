{
  "nbformat": 4,
  "nbformat_minor": 0,
  "metadata": {
    "colab": {
      "provenance": []
    },
    "kernelspec": {
      "name": "python3",
      "display_name": "Python 3"
    },
    "language_info": {
      "name": "python"
    }
  },
  "cells": [
    {
      "cell_type": "markdown",
      "source": [
        "# **1)**\n",
        "Observe o trecho de código abaixo:\n",
        "\n",
        "int INDICE = 13, SOMA = 0, K = 0;\n",
        "\n",
        "enquanto K < INDICE faça\n",
        "\n",
        "{\n",
        "\n",
        "K = K + 1;\n",
        "\n",
        "SOMA = SOMA + K;\n",
        "\n",
        "}\n",
        "\n",
        "imprimir(SOMA);\n",
        "\n",
        "\n",
        "\n",
        "Ao final do processamento, qual será o valor da variável SOMA?"
      ],
      "metadata": {
        "id": "QqroiW3b1jlp"
      }
    },
    {
      "cell_type": "markdown",
      "source": [
        "**RESPOSTA:** 91. K irá até 12 no loop while e a cada iteração será somado 1 ao k atual mais o valor da soma da iteração anterior.\n",
        "\n",
        "Segue o código abaixo do problema também mostrando a resposta encontrada."
      ],
      "metadata": {
        "id": "Bfzu_jFo1tb9"
      }
    },
    {
      "cell_type": "code",
      "source": [
        "indice = 13\n",
        "soma = 0\n",
        "k = 0\n",
        "\n",
        "while k < indice:\n",
        "  k = k + 1\n",
        "  soma = soma + k\n",
        "\n",
        "print(soma)"
      ],
      "metadata": {
        "colab": {
          "base_uri": "https://localhost:8080/"
        },
        "id": "_IPuhwz72Ys2",
        "outputId": "3df9f400-31d2-401b-b40d-cad506e776b1"
      },
      "execution_count": 1,
      "outputs": [
        {
          "output_type": "stream",
          "name": "stdout",
          "text": [
            "91\n"
          ]
        }
      ]
    },
    {
      "cell_type": "markdown",
      "source": [
        "# **2)**\n",
        "\n",
        "Dado a sequência de Fibonacci, onde se inicia por 0 e 1 e o próximo valor sempre será a soma dos 2 valores anteriores (exemplo: 0, 1, 1, 2, 3, 5, 8, 13, 21, 34...), escreva um programa na linguagem que desejar onde, informado um número, ele calcule a sequência de Fibonacci e retorne uma mensagem avisando se o número informado pertence ou não a sequência.\n",
        "\n",
        "IMPORTANTE:\n",
        "Esse número pode ser informado através de qualquer entrada de sua preferência ou pode ser previamente definido no código;"
      ],
      "metadata": {
        "id": "86h5AOSyqgkC"
      }
    },
    {
      "cell_type": "code",
      "execution_count": 2,
      "metadata": {
        "id": "1-nWdSmSqaE9"
      },
      "outputs": [],
      "source": [
        "def pertence_seq_fib(n):\n",
        "  a = 0\n",
        "  b = 1\n",
        "\n",
        "  while b < n:\n",
        "    c = a + b\n",
        "    a = b\n",
        "    b = c\n",
        "  if a == n or b == n:\n",
        "    return True\n",
        "  if b > n:\n",
        "    return False"
      ]
    },
    {
      "cell_type": "code",
      "source": [
        "print(\"Informe um número:\\n\")\n",
        "n = int(input())"
      ],
      "metadata": {
        "colab": {
          "base_uri": "https://localhost:8080/"
        },
        "id": "bfXcFtOfsJQi",
        "outputId": "90ad5391-c06d-44b0-e1c2-8f5821731b96"
      },
      "execution_count": 3,
      "outputs": [
        {
          "name": "stdout",
          "output_type": "stream",
          "text": [
            "Informe um número:\n",
            "\n",
            "34\n"
          ]
        }
      ]
    },
    {
      "cell_type": "code",
      "source": [
        "resposta = pertence_seq_fib(n)\n",
        "\n",
        "if resposta == True:\n",
        "  print(\"Número {0} pertence a sequência de Fibonacci.\".format(n))\n",
        "else:\n",
        "  print(\"Número {0} não pertence a sequência de Fibonacci.\".format(n))"
      ],
      "metadata": {
        "colab": {
          "base_uri": "https://localhost:8080/"
        },
        "id": "6wZEJiukrxF2",
        "outputId": "671aa7c4-da9f-4676-90d2-6e38839b2006"
      },
      "execution_count": 4,
      "outputs": [
        {
          "output_type": "stream",
          "name": "stdout",
          "text": [
            "Número 34 pertence a sequência de Fibonacci.\n"
          ]
        }
      ]
    },
    {
      "cell_type": "markdown",
      "source": [
        "# **3)**\n",
        "Descubra a lógica e complete o próximo elemento:\n",
        "\n",
        "\n",
        "\n",
        "a) 1, 3, 5, 7, ___\n",
        "\n",
        "b) 2, 4, 8, 16, 32, 64, ____\n",
        "\n",
        "c) 0, 1, 4, 9, 16, 25, 36, ____\n",
        "\n",
        "d) 4, 16, 36, 64, ____\n",
        "\n",
        "e) 1, 1, 2, 3, 5, 8, ____\n",
        "\n",
        "f) 2,10, 12, 16, 17, 18, 19, ____"
      ],
      "metadata": {
        "id": "zj-85knL3Jyk"
      }
    },
    {
      "cell_type": "markdown",
      "source": [
        "**RESPOSTA:** \n",
        "\n",
        "**A)** 1, 3 ,5 ,7, **9**\n",
        "\n",
        "O próximo número da sequência é sempre o número anterior mais 2.\n",
        "\n",
        "**B)** 2, 4, 8, 16, 32, 64, **128**\n",
        "\n",
        "O próximo número da sequência é igual ao anterior multiplicado por 2.\n",
        "\n",
        "**C)** 0, 1, 4, 9, 16, 25, 36, **49**\n",
        "\n",
        "Os números da sequência estão sendo somados com uma sequência crescente de números ímpares. 0 é somado a 1, que dá 1; 1 é somado a 3, que dá 4; 4 é somado a 5, que dá 9, e assim por diante. O número 49 vai surgir da soma de 36, seu anterior, com 13.\n",
        "\n",
        "**D)** 4, 16, 36, 64, **100**\n",
        "\n",
        "A sequência é formada de números que são potências de números pares ao quadrado.\n",
        "Então temos 2^2, 4^4, 6^6, 8^8, 10^10.\n",
        "\n",
        "**E)** 1, 1, 2, 3, 5, 8, **13**\n",
        "\n",
        "O próximo número é a dos dois números anteriores na sequência. Como o primeiro número é 1, vamos considerar que o anterior dele seria 0, com isso o segundo número na sequência é 1. O terceiro número da sequência será 1 + 1 =2. Seguimos esse processo até encontrar 8 + 5 = 13.\n",
        "\n",
        "**F)** 2, 10, 12, 16, 17, 18, 19, **200**\n",
        "\n",
        "Todos os números da sequência começam com a letra d. Dois, dez, doze, dezesseis, dezessete, dezoito, dezenove e duzentos.\n"
      ],
      "metadata": {
        "id": "6CNUSnL_3TX0"
      }
    },
    {
      "cell_type": "markdown",
      "source": [
        "# **4)**\n",
        "\n",
        "Dois veículos (um carro e um caminhão) saem respectivamente de cidades opostas pela mesma rodovia. O carro de Ribeirão Preto em direção a Franca, a uma velocidade constante de 110 km/h e o caminhão de Franca em direção a Ribeirão Preto a uma velocidade constante de 80 km/h. Quando eles se cruzarem na rodovia, qual estará mais próximo a cidade de Ribeirão Preto?\n",
        "\n",
        "\n",
        "\n",
        "IMPORTANTE:\n",
        "\n",
        "a) Considerar a distância de 100km entre a cidade de Ribeirão Preto <-> Franca.\n",
        "\n",
        "b) Considerar 2 pedágios como obstáculo e que o caminhão leva 5 minutos a mais para passar em cada um deles e o carro possui tag de pedágio (Sem Parar)\n",
        "\n",
        "c) Explique como chegou no resultado."
      ],
      "metadata": {
        "id": "RRTUNjoUHqSr"
      }
    },
    {
      "cell_type": "markdown",
      "source": [
        "**RESPOSTA:** Se o carro e o caminhão se cruzam na rodovia, isso significa que nesse momento eles estão na mesma posição, um do lado do outro, só que em sentidos diferentes: o carro saindo de Ribeirão Preto com destino a Franca, e o caminhão saindo de Franca com destino a Ribeirão Preto.\n",
        "\n",
        "Logo os dois estarão à mesma distância de Ribeirão Preto."
      ],
      "metadata": {
        "id": "6nXVUR4PHwtI"
      }
    },
    {
      "cell_type": "markdown",
      "source": [
        "# **5)**\n",
        "Escreva um programa que inverta os caracteres de um string.\n",
        "\n",
        "IMPORTANTE:\n",
        "\n",
        "a) Essa string pode ser informada através de qualquer entrada de sua preferência ou pode ser previamente definida no código;\n",
        "\n",
        "b) Evite usar funções prontas, como, por exemplo, reverse;"
      ],
      "metadata": {
        "id": "IwN-IV3e82WN"
      }
    },
    {
      "cell_type": "code",
      "source": [
        "def inverter_string(s):\n",
        "  s_invert = ''\n",
        "  tam = len(s) - 1\n",
        "\n",
        "  while tam >= 0:\n",
        "    s_invert = s_invert + s[tam]\n",
        "    tam = tam - 1\n",
        "\n",
        "  return s_invert"
      ],
      "metadata": {
        "id": "U1OfH0Ti85fU"
      },
      "execution_count": 5,
      "outputs": []
    },
    {
      "cell_type": "code",
      "source": [
        "print(\"Escreva uma string:\\n\")\n",
        "string = input()"
      ],
      "metadata": {
        "colab": {
          "base_uri": "https://localhost:8080/"
        },
        "id": "caw4UcHz97On",
        "outputId": "69548a32-cad9-4efb-f253-6302bfbd5ee8"
      },
      "execution_count": 6,
      "outputs": [
        {
          "name": "stdout",
          "output_type": "stream",
          "text": [
            "Escreva uma string:\n",
            "\n",
            "Desafio Target\n"
          ]
        }
      ]
    },
    {
      "cell_type": "code",
      "source": [
        "string_invertida = inverter_string(string)\n",
        "\n",
        "print(\"A string invertida é {0}.\".format(string_invertida))"
      ],
      "metadata": {
        "colab": {
          "base_uri": "https://localhost:8080/"
        },
        "id": "OU_7basq-QWi",
        "outputId": "0465cf60-44c7-47cd-b078-1e610ecdbdb8"
      },
      "execution_count": 7,
      "outputs": [
        {
          "output_type": "stream",
          "name": "stdout",
          "text": [
            "A string invertida é tegraT oifaseD.\n"
          ]
        }
      ]
    }
  ]
}